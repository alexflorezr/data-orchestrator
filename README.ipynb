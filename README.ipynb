{
 "cells": [
  {
   "cell_type": "markdown",
   "id": "0de1ae2e",
   "metadata": {},
   "source": [
    "## <font color='red'> This README is a WIP</font>"
   ]
  },
  {
   "cell_type": "markdown",
   "id": "afaef3f9",
   "metadata": {},
   "source": [
    "### MWAA (Managed Worflows Apache Airflow)"
   ]
  },
  {
   "cell_type": "markdown",
   "id": "f872cb86",
   "metadata": {},
   "source": [
    "#### Airflow in AWS\n",
    "- **What is MWAA**\n",
    "\n",
    "- Why we use it\n",
    "- Pricing"
   ]
  },
  {
   "cell_type": "markdown",
   "id": "941f0997",
   "metadata": {},
   "source": [
    "### Dixa labs\n",
    "#### We have a MWAA environment in Dixa Labs account (544286230891)\n",
    "- **Airflow version**: 1.10.12\n",
    "- **name**: mwaa-environment-public-network-MwaaEnvironment [here](https://eu-west-1.console.aws.amazon.com/mwaa/home?region=eu-west-1#environments/mwaa-environment-public-network-MwaaEnvironment)\n",
    "- **bucket**: mwaa-environment-public-network-environmentbucket-pwewkbc08bys [here](https://eu-west-1.console.aws.amazon.com/s3/buckets/mwaa-environment-public-network-environmentbucket-pwewkbc08bys?region=eu-west-1&tab=objects)\n",
    "- **requirements**: bucket/dags/requirements.txt\n",
    "- **role**: mwaa-environment-public-network-MwaaExecutionRole-17LYEO92FDZVE [here](https://console.aws.amazon.com/iam/home?#/roles/mwaa-environment-public-network-MwaaExecutionRole-17LYEO92FDZVE)\n",
    "- **Temporal files bucket**: airflow-temporal-objects [here](https://s3.console.aws.amazon.com/s3/buckets/airflow-temporal-objects?region=eu-west-1&tab=objects)"
   ]
  },
  {
   "cell_type": "markdown",
   "id": "a41722cf",
   "metadata": {},
   "source": [
    "#### Current airflow architecture\n",
    "- Building the airflow environment in AWS (iac)\n",
    "- Service role and policies\n",
    "- Dags bucket structure <br/>\n",
    "<img style=\"float\" align=\"left\" src=\"./images/dags_folder_structure.png\">"
   ]
  },
  {
   "cell_type": "markdown",
   "id": "09d97b7f",
   "metadata": {},
   "source": [
    "#### Developing pipelines in MWAA\n",
    "- Setting-up airflow versions and\n",
    "- Running MWAA locally\n",
    "- Github repo data-orchestrator  [here](https://github.com/dixahq/data-orchestrator)\n",
    "- Github actions"
   ]
  },
  {
   "cell_type": "markdown",
   "id": "b7717b71",
   "metadata": {},
   "source": [
    "#### Things to know\n",
    "- Operators\n",
    "- Scheduler"
   ]
  },
  {
   "cell_type": "code",
   "execution_count": null,
   "id": "9a19a6e0",
   "metadata": {},
   "outputs": [],
   "source": []
  }
 ],
 "metadata": {
  "kernelspec": {
   "display_name": "conda_python3",
   "language": "python",
   "name": "conda_python3"
  },
  "language_info": {
   "codemirror_mode": {
    "name": "ipython",
    "version": 3
   },
   "file_extension": ".py",
   "mimetype": "text/x-python",
   "name": "python",
   "nbconvert_exporter": "python",
   "pygments_lexer": "ipython3",
   "version": "3.6.13"
  }
 },
 "nbformat": 4,
 "nbformat_minor": 5
}
